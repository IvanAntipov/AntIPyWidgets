{
    "cells": [
        {
            "cell_type": "code",
            "execution_count": 4,
            "source": [
                "import antipywidgets\n",
                "import antipywidgets.jobs_runner as jobs_runner "
            ],
            "outputs": [],
            "metadata": {}
        },
        {
            "cell_type": "code",
            "execution_count": 26,
            "source": [
                "import time\n",
                "\n",
                "def get_job(name, should_throw):\n",
                "    def job():\n",
                "        print(f\"I am '{name}'\")\n",
                "        time.sleep(1)\n",
                "        if should_throw:\n",
                "            raise Exception(\"Test failed\")\n",
                "        print(\"Finished\")\n",
                "    return job\n",
                "\n",
                "jobs = dict([(f\"test_{i}\", get_job(f\"test_{i}\", should_throw=(i % 3 == 0))) for i in range(12)])    "
            ],
            "outputs": [],
            "metadata": {}
        },
        {
            "cell_type": "code",
            "execution_count": 27,
            "source": [
                "runner = jobs_runner.make_runner(jobs)"
            ],
            "outputs": [
                {
                    "output_type": "display_data",
                    "data": {
                        "text/plain": [
                            "Sheet(cells=(Cell(column_end=0, column_start=0, read_only=True, row_end=11, row_start=0, squeeze_row=False, ty…"
                        ],
                        "application/vnd.jupyter.widget-view+json": {
                            "version_major": 2,
                            "version_minor": 0,
                            "model_id": "54164885dfe84dc890fa75ae757cea02"
                        }
                    },
                    "metadata": {}
                }
            ],
            "metadata": {}
        },
        {
            "cell_type": "code",
            "execution_count": 28,
            "source": [
                "runner()"
            ],
            "outputs": [
                {
                    "output_type": "stream",
                    "name": "stdout",
                    "text": [
                        "Run 'test_0'\n",
                        "I am 'test_0'\n",
                        "Run 'test_1'\n",
                        "I am 'test_1'\n",
                        "Finished\n",
                        "Run 'test_2'\n",
                        "I am 'test_2'\n",
                        "Finished\n",
                        "Run 'test_3'\n",
                        "I am 'test_3'\n",
                        "Run 'test_4'\n",
                        "I am 'test_4'\n",
                        "Finished\n",
                        "Run 'test_5'\n",
                        "I am 'test_5'\n",
                        "Finished\n",
                        "Run 'test_6'\n",
                        "I am 'test_6'\n",
                        "Run 'test_7'\n",
                        "I am 'test_7'\n",
                        "Finished\n",
                        "Run 'test_8'\n",
                        "I am 'test_8'\n",
                        "Finished\n",
                        "Run 'test_9'\n",
                        "I am 'test_9'\n",
                        "Run 'test_10'\n",
                        "I am 'test_10'\n",
                        "Finished\n",
                        "Run 'test_11'\n",
                        "I am 'test_11'\n",
                        "Finished\n"
                    ]
                }
            ],
            "metadata": {}
        },
        {
            "cell_type": "code",
            "execution_count": null,
            "source": [],
            "outputs": [],
            "metadata": {}
        }
    ],
    "metadata": {
        "orig_nbformat": 4,
        "language_info": {
            "name": "python",
            "version": "3.9.6",
            "mimetype": "text/x-python",
            "codemirror_mode": {
                "name": "ipython",
                "version": 3
            },
            "pygments_lexer": "ipython3",
            "nbconvert_exporter": "python",
            "file_extension": ".py"
        },
        "kernelspec": {
            "name": "python3",
            "display_name": "Python 3.9.6 64-bit (windows store)"
        },
        "interpreter": {
            "hash": "6bc32d71b108046157419d41384c7c74b0a50249d47087a7ca1c084e718d547e"
        }
    },
    "nbformat": 4,
    "nbformat_minor": 2
}